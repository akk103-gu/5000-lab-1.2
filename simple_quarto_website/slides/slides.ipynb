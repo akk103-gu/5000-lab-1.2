{
  "cells": [
    {
      "cell_type": "markdown",
      "metadata": {},
      "source": [
        "---\n",
        "title: \"reveal.js presentation\"\n",
        "format:\n",
        "    revealjs:\n",
        "        bibliography: ../reference.bib     \n",
        "---\n",
        "\n",
        "## Slide 1\n",
        "\n",
        "This is a sample presentation.\n",
        "\n",
        "<img src= \"../images/doggy.png\">\n",
        "<img src= \"../images/kitty.png\">\n",
        "\n",
        "## Slide 2"
      ]
    },
    {
      "cell_type": "code",
      "execution_count": null,
      "metadata": {},
      "outputs": [
        {
          "ename": "",
          "evalue": "",
          "output_type": "error",
          "traceback": [
            "\u001b[1;31mRunning cells with 'base (Python 3.13.5)' requires the ipykernel package.\n",
            "\u001b[1;31m<a href='command:jupyter.createPythonEnvAndSelectController'>Create a Python Environment</a> with the required packages.\n",
            "\u001b[1;31mOr install 'ipykernel' using the command: 'conda install -n base ipykernel --update-deps --force-reinstall'"
          ]
        }
      ],
      "source": [
        "#| echo: true\n",
        "#| code-fold: true\n",
        "import matplotlib.pyplot as plt\n",
        "import numpy as np\n",
        "np.zeros((3, 4))\n",
        "plt.plot([1, 2, 3], [4, 5, 6])\n",
        "plt.show()"
      ]
    },
    {
      "cell_type": "markdown",
      "metadata": {},
      "source": [
        "## Slide 3\n",
        "- On various baked goods [see @manley2001biscuit]\n",
        "References:"
      ]
    }
  ],
  "metadata": {
    "kernelspec": {
      "display_name": "base",
      "language": "python",
      "name": "python3"
    },
    "language_info": {
      "name": "python",
      "version": "3.13.5"
    }
  },
  "nbformat": 4,
  "nbformat_minor": 4
}
